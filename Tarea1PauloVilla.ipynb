{
 "cells": [
  {
   "cell_type": "markdown",
   "id": "4698835f",
   "metadata": {},
   "source": [
    "# Resumen de \"What are MLOps and Why Does it Matter?\"\n",
    "\n",
    "fuente : https://odsc.medium.com/what-are-mlops-and-why-does-it-matter-8cff060d4067"
   ]
  },
  {
   "cell_type": "markdown",
   "id": "1ce9f71e",
   "metadata": {},
   "source": [
    "Los MLOps, o mejor dicho \"Machine Learning Operations\", son prácticas o procesos en los que se plantea crear o mantener modelos de machine learning en produción, con el equipo de operaciones y el equipo de cientificos de datos. \n",
    "\n",
    "Están diseñados para que sean el colaboración, para eliminar desperdicios y automatizar tareas al máximo posible, ya que al trabajar en conjunto (centificos de datos y equipos de producción u operación, se tiene el conocimiento de los negocios y funcionalidades y además los datos, lo cual en conjunto nos pueden resultar con modelos muy poderosos.\n",
    "\n",
    "Lo malo es que los modelos matemáticos no son muy intuitivos, así que se necesita una gran habilidad para explicar y mantener al tanto ambas partes del equipo.\n",
    "\n",
    "Ejecutar modelos de machine learning efectivos significa más que solo correr celdas con codigo, o dejar a los cientificos de datos a que intuyan de que va el negocio, es un trabajo en equipo por parte de toda la empresa, es necesario que el equipo operacional esté abordo al 100% para que el equipo de ciencia de datos tenga los mejores \"inputs\" y puedan generar mejores \"outputs\"."
   ]
  }
 ],
 "metadata": {
  "kernelspec": {
   "display_name": "Python 3",
   "language": "python",
   "name": "python3"
  },
  "language_info": {
   "codemirror_mode": {
    "name": "ipython",
    "version": 3
   },
   "file_extension": ".py",
   "mimetype": "text/x-python",
   "name": "python",
   "nbconvert_exporter": "python",
   "pygments_lexer": "ipython3",
   "version": "3.8.8"
  }
 },
 "nbformat": 4,
 "nbformat_minor": 5
}
